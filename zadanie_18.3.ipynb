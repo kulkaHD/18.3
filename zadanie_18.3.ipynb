{
 "cells": [
  {
   "cell_type": "code",
   "execution_count": 1,
   "id": "a31f0003",
   "metadata": {},
   "outputs": [],
   "source": [
    "import numpy as np\n",
    "import tensorflow as tf\n",
    "from tensorflow import keras\n",
    "import tensorflow.keras.layers as layers\n",
    "from sklearn.model_selection import train_test_split\n",
    "from keras.callbacks import ReduceLROnPlateau"
   ]
  },
  {
   "cell_type": "code",
   "execution_count": 2,
   "id": "0afee4b5",
   "metadata": {},
   "outputs": [
    {
     "name": "stdout",
     "output_type": "stream",
     "text": [
      "Epoch 1/40\n",
      "1688/1688 [==============================] - 7s 4ms/step - loss: 0.4828 - accuracy: 0.8255 - lr: 0.0010\n",
      "Epoch 2/40\n",
      "1688/1688 [==============================] - 7s 4ms/step - loss: 0.3646 - accuracy: 0.8669 - lr: 0.0010\n",
      "Epoch 3/40\n",
      "1688/1688 [==============================] - 7s 4ms/step - loss: 0.3274 - accuracy: 0.8802 - lr: 0.0010\n",
      "Epoch 4/40\n",
      "1688/1688 [==============================] - 7s 4ms/step - loss: 0.3039 - accuracy: 0.8862 - lr: 0.0010\n",
      "Epoch 5/40\n",
      "1688/1688 [==============================] - 7s 4ms/step - loss: 0.2854 - accuracy: 0.8930 - lr: 0.0010\n",
      "Epoch 6/40\n",
      "1688/1688 [==============================] - 7s 4ms/step - loss: 0.2700 - accuracy: 0.8989 - lr: 0.0010\n",
      "Epoch 7/40\n",
      "1688/1688 [==============================] - 7s 4ms/step - loss: 0.2566 - accuracy: 0.9041 - lr: 0.0010\n",
      "Epoch 8/40\n",
      "1688/1688 [==============================] - 7s 4ms/step - loss: 0.2456 - accuracy: 0.9064 - lr: 0.0010\n",
      "Epoch 9/40\n",
      "1688/1688 [==============================] - 6s 4ms/step - loss: 0.2325 - accuracy: 0.9128 - lr: 0.0010\n",
      "Epoch 10/40\n",
      "1688/1688 [==============================] - 10s 6ms/step - loss: 0.2242 - accuracy: 0.9146 - lr: 0.0010\n",
      "Epoch 11/40\n",
      "1688/1688 [==============================] - 7s 4ms/step - loss: 0.1776 - accuracy: 0.9329 - lr: 2.0000e-04\n",
      "Epoch 12/40\n",
      "1688/1688 [==============================] - 8s 4ms/step - loss: 0.1663 - accuracy: 0.9369 - lr: 2.0000e-04\n",
      "Epoch 13/40\n",
      "1688/1688 [==============================] - 7s 4ms/step - loss: 0.1593 - accuracy: 0.9390 - lr: 2.0000e-04\n",
      "Epoch 14/40\n",
      "1688/1688 [==============================] - 7s 4ms/step - loss: 0.1528 - accuracy: 0.9416 - lr: 2.0000e-04\n",
      "Epoch 15/40\n",
      "1688/1688 [==============================] - 7s 4ms/step - loss: 0.1471 - accuracy: 0.9442 - lr: 2.0000e-04\n",
      "Epoch 16/40\n",
      "1688/1688 [==============================] - 7s 4ms/step - loss: 0.1420 - accuracy: 0.9463 - lr: 2.0000e-04\n",
      "Epoch 17/40\n",
      "1688/1688 [==============================] - 8s 5ms/step - loss: 0.1362 - accuracy: 0.9484 - lr: 2.0000e-04\n",
      "Epoch 18/40\n",
      "1688/1688 [==============================] - 8s 5ms/step - loss: 0.1313 - accuracy: 0.9501 - lr: 2.0000e-04\n",
      "Epoch 19/40\n",
      "1688/1688 [==============================] - 10s 6ms/step - loss: 0.1263 - accuracy: 0.9520 - lr: 2.0000e-04\n",
      "Epoch 20/40\n",
      "1688/1688 [==============================] - 9s 5ms/step - loss: 0.1217 - accuracy: 0.9546 - lr: 2.0000e-04\n",
      "Epoch 21/40\n",
      "1688/1688 [==============================] - 9s 5ms/step - loss: 0.1173 - accuracy: 0.9562 - lr: 2.0000e-04\n",
      "Epoch 22/40\n",
      "1688/1688 [==============================] - 7s 4ms/step - loss: 0.1129 - accuracy: 0.9576 - lr: 2.0000e-04\n",
      "Epoch 23/40\n",
      "1688/1688 [==============================] - 7s 4ms/step - loss: 0.1090 - accuracy: 0.9594 - lr: 2.0000e-04\n",
      "Epoch 24/40\n",
      "1688/1688 [==============================] - 7s 4ms/step - loss: 0.1047 - accuracy: 0.9619 - lr: 2.0000e-04\n",
      "Epoch 25/40\n",
      "1688/1688 [==============================] - 8s 4ms/step - loss: 0.1013 - accuracy: 0.9624 - lr: 2.0000e-04\n",
      "Epoch 26/40\n",
      "1688/1688 [==============================] - 7s 4ms/step - loss: 0.0975 - accuracy: 0.9650 - lr: 2.0000e-04\n",
      "Epoch 27/40\n",
      "1688/1688 [==============================] - 8s 5ms/step - loss: 0.0929 - accuracy: 0.9663 - lr: 2.0000e-04\n",
      "Epoch 28/40\n",
      "1688/1688 [==============================] - 7s 4ms/step - loss: 0.0891 - accuracy: 0.9679 - lr: 2.0000e-04\n",
      "Epoch 29/40\n",
      "1688/1688 [==============================] - 8s 5ms/step - loss: 0.0864 - accuracy: 0.9688 - lr: 2.0000e-04\n",
      "Epoch 30/40\n",
      "1688/1688 [==============================] - 7s 4ms/step - loss: 0.0832 - accuracy: 0.9700 - lr: 2.0000e-04\n",
      "Epoch 31/40\n",
      "1688/1688 [==============================] - 8s 5ms/step - loss: 0.0758 - accuracy: 0.9739 - lr: 1.0000e-04\n",
      "Epoch 32/40\n",
      "1688/1688 [==============================] - 7s 4ms/step - loss: 0.0738 - accuracy: 0.9748 - lr: 1.0000e-04\n",
      "Epoch 33/40\n",
      "1688/1688 [==============================] - 8s 4ms/step - loss: 0.0716 - accuracy: 0.9754 - lr: 1.0000e-04\n",
      "Epoch 34/40\n",
      "1688/1688 [==============================] - 7s 4ms/step - loss: 0.0694 - accuracy: 0.9765 - lr: 1.0000e-04\n",
      "Epoch 35/40\n",
      "1688/1688 [==============================] - 7s 4ms/step - loss: 0.0675 - accuracy: 0.9771 - lr: 1.0000e-04\n",
      "Epoch 36/40\n",
      "1688/1688 [==============================] - 9s 5ms/step - loss: 0.0654 - accuracy: 0.9778 - lr: 1.0000e-04\n",
      "Epoch 37/40\n",
      "1688/1688 [==============================] - 10s 6ms/step - loss: 0.0636 - accuracy: 0.9786 - lr: 1.0000e-04\n",
      "Epoch 38/40\n",
      "1688/1688 [==============================] - 9s 5ms/step - loss: 0.0616 - accuracy: 0.9790 - lr: 1.0000e-04\n",
      "Epoch 39/40\n",
      "1688/1688 [==============================] - 12s 7ms/step - loss: 0.0600 - accuracy: 0.9800 - lr: 1.0000e-04\n",
      "Epoch 40/40\n",
      "1688/1688 [==============================] - 11s 7ms/step - loss: 0.0582 - accuracy: 0.9808 - lr: 1.0000e-04\n"
     ]
    }
   ],
   "source": [
    "train, test = tf.keras.datasets.fashion_mnist.load_data()\n",
    "\n",
    "# wydobycie obrazów oraz labelek\n",
    "images, labels = train\n",
    "\n",
    "# normalizacja wartości pikseli (maks. wartość\n",
    "# wynosi 255.0, czyli aby znormalizować nasze dane,\n",
    "# musimy podzielić każdy piksel przez maks. wartość)\n",
    "images = images/255.0\n",
    "\n",
    "# zapisujemy dane jako int\n",
    "labels = labels.astype(np.int32)\n",
    "\n",
    "X_train, X_test, y_train, y_test = \\\n",
    "    train_test_split(images, labels, test_size=0.1, random_state=10, stratify=labels)\n",
    "\n",
    "# stworzenie zbioru typu Dataset z naszej listy\n",
    "train_ds = tf.data.Dataset.from_tensor_slices((X_train, y_train))\n",
    "\n",
    "# ustawienie batch_size na 32 oraz przetasowanie na bazie 1000 próbek\n",
    "train_ds = train_ds.shuffle(1000).batch(32)\n",
    "\n",
    "f_mnist_model = tf.keras.Sequential([\n",
    "    # spłaszczanie obrazka do wektora jednowymiarowego\n",
    "#     layers.Flatten(input_shape=[24, 24]),\n",
    "    layers.Flatten(),\n",
    "\n",
    "    layers.Dense(300,activation='relu'),\n",
    "    layers.Dense(150, activation='relu'),\n",
    "\n",
    "    # ostatnia warstwa posiada tyle neuronów ile mamy klas\n",
    "    layers.Dense(10, activation='softmax')\n",
    "])\n",
    "\n",
    "from tensorflow import keras\n",
    "# adam_opt = keras.optimizers.Adam(learning_rate=0.005)\n",
    "\n",
    "f_mnist_model.compile(\n",
    "    loss='sparse_categorical_crossentropy',\n",
    "    optimizer='adam',\n",
    "    metrics=['accuracy']\n",
    ")\n",
    "\n",
    "def const_scheduler(epoch):\n",
    "    if epoch < 10:\n",
    "          return 0.001\n",
    "    elif epoch < 30:\n",
    "          return 0.0002\n",
    "    else:\n",
    "          return 0.0001\n",
    "callback = tf.keras.callbacks.LearningRateScheduler(const_scheduler)\n",
    "train_stats = f_mnist_model.fit(train_ds, epochs=40, verbose=1, callbacks=[callback])\n",
    "# train_stats = f_mnist_model.fit(train_ds, epochs=20, verbose=1)"
   ]
  },
  {
   "cell_type": "code",
   "execution_count": 3,
   "id": "22454dd3",
   "metadata": {},
   "outputs": [
    {
     "data": {
      "image/png": "[encoded data removed]",
      "text/plain": [
       "<Figure size 800x500 with 1 Axes>"
      ]
     },
     "metadata": {},
     "output_type": "display_data"
    }
   ],
   "source": [
    "import pandas as pd\n",
    "import matplotlib.pyplot as plt\n",
    "\n",
    "pd.DataFrame(train_stats.history).plot(figsize=(8, 5))\n",
    "plt.grid(True)\n",
    "plt.gca().set_ylim(0, 1)\n",
    "plt.show()"
   ]
  },
  {
   "cell_type": "code",
   "execution_count": 4,
   "id": "246eac5c",
   "metadata": {},
   "outputs": [
    {
     "name": "stdout",
     "output_type": "stream",
     "text": [
      "188/188 [==============================] - 1s 4ms/step\n",
      "probs :  [4.8673181e-21 2.4818730e-19 5.7532838e-23 8.5818367e-20 2.4169355e-21\n",
      " 9.0820754e-11 6.4708465e-20 9.9999994e-01 1.5278753e-14 6.9446455e-19]\n",
      "klasa : 7\n",
      "rzeczywista klasa:  7\n"
     ]
    }
   ],
   "source": [
    "y_pred = f_mnist_model.predict(X_test)\n",
    "print(\"probs : \", y_pred[2])\n",
    "print(\"klasa :\", np.argmax(y_pred[2]))\n",
    "print(\"rzeczywista klasa: \", y_test[2])"
   ]
  },
  {
   "cell_type": "code",
   "execution_count": 5,
   "id": "d23fc033",
   "metadata": {},
   "outputs": [],
   "source": [
    "# f_mnist_model.save('saved_model/my_model')"
   ]
  },
  {
   "cell_type": "code",
   "execution_count": null,
   "id": "1de2ae89",
   "metadata": {},
   "outputs": [],
   "source": []
  },
  {
   "cell_type": "code",
   "execution_count": 6,
   "id": "6ff842a1",
   "metadata": {},
   "outputs": [],
   "source": []
  },
  {
   "cell_type": "code",
   "execution_count": null,
   "id": "d6942b75",
   "metadata": {},
   "outputs": [],
   "source": []
  },
  {
   "cell_type": "code",
   "execution_count": null,
   "id": "6e424a83",
   "metadata": {},
   "outputs": [],
   "source": []
  }
 ],
 "metadata": {
  "kernelspec": {
   "display_name": "Python 3 (ipykernel)",
   "language": "python",
   "name": "python3"
  },
  "language_info": {
   "codemirror_mode": {
    "name": "ipython",
    "version": 3
   },
   "file_extension": ".py",
   "mimetype": "text/x-python",
   "name": "python",
   "nbconvert_exporter": "python",
   "pygments_lexer": "ipython3",
   "version": "3.9.13"
  }
 },
 "nbformat": 4,
 "nbformat_minor": 5
}
