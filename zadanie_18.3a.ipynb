{
 "cells": [
  {
   "cell_type": "code",
   "execution_count": 1,
   "id": "a31f0003",
   "metadata": {
    "executionInfo": {
     "elapsed": 4465,
     "status": "ok",
     "timestamp": 1674425625370,
     "user": {
      "displayName": "Hanna Drwięga",
      "userId": "15275290414573247377"
     },
     "user_tz": -60
    },
    "id": "a31f0003"
   },
   "outputs": [],
   "source": [
    "import numpy as np\n",
    "import tensorflow as tf\n",
    "from tensorflow import keras\n",
    "import tensorflow.keras.layers as layers\n",
    "from keras.layers import Dense, Conv2D, Activation, MaxPooling2D, Flatten, Dropout, BatchNormalization\n",
    "from sklearn.model_selection import train_test_split\n",
    "from keras.callbacks import ReduceLROnPlateau\n",
    "import math"
   ]
  },
  {
   "cell_type": "code",
   "execution_count": 2,
   "id": "0afee4b5",
   "metadata": {
    "colab": {
     "base_uri": "https://localhost:8080/"
    },
    "executionInfo": {
     "elapsed": 93916,
     "status": "ok",
     "timestamp": 1674425824759,
     "user": {
      "displayName": "Hanna Drwięga",
      "userId": "15275290414573247377"
     },
     "user_tz": -60
    },
    "id": "0afee4b5",
    "outputId": "dade7cb9-65bd-4531-c297-b3edd35078c7"
   },
   "outputs": [
    {
     "name": "stdout",
     "output_type": "stream",
     "text": [
      "Epoch 1/55\n",
      "360/360 [==============================] - 18s 47ms/step - loss: 0.6845 - accuracy: 0.7434 - val_loss: 0.7535 - val_accuracy: 0.6877 - lr: 0.0010\n",
      "Epoch 2/55\n",
      "360/360 [==============================] - 17s 46ms/step - loss: 0.4499 - accuracy: 0.8329 - val_loss: 0.3227 - val_accuracy: 0.8808 - lr: 0.0010\n",
      "Epoch 3/55\n",
      "360/360 [==============================] - 18s 49ms/step - loss: 0.3966 - accuracy: 0.8521 - val_loss: 0.2972 - val_accuracy: 0.8890 - lr: 0.0010\n",
      "Epoch 4/55\n",
      "360/360 [==============================] - 18s 51ms/step - loss: 0.3695 - accuracy: 0.8638 - val_loss: 0.2773 - val_accuracy: 0.8993 - lr: 0.0010\n",
      "Epoch 5/55\n",
      "360/360 [==============================] - 19s 53ms/step - loss: 0.3545 - accuracy: 0.8690 - val_loss: 0.2703 - val_accuracy: 0.8973 - lr: 0.0010\n",
      "Epoch 6/55\n",
      "360/360 [==============================] - 22s 62ms/step - loss: 0.3327 - accuracy: 0.8757 - val_loss: 0.2547 - val_accuracy: 0.9057 - lr: 0.0010\n",
      "Epoch 7/55\n",
      "360/360 [==============================] - 18s 49ms/step - loss: 0.3230 - accuracy: 0.8799 - val_loss: 0.2479 - val_accuracy: 0.9055 - lr: 0.0010\n",
      "Epoch 8/55\n",
      "360/360 [==============================] - 18s 50ms/step - loss: 0.3159 - accuracy: 0.8834 - val_loss: 0.2387 - val_accuracy: 0.9118 - lr: 0.0010\n",
      "Epoch 9/55\n",
      "360/360 [==============================] - 17s 48ms/step - loss: 0.3072 - accuracy: 0.8854 - val_loss: 0.2416 - val_accuracy: 0.9110 - lr: 0.0010\n",
      "Epoch 10/55\n",
      "360/360 [==============================] - 18s 51ms/step - loss: 0.2963 - accuracy: 0.8896 - val_loss: 0.2336 - val_accuracy: 0.9130 - lr: 0.0010\n",
      "Epoch 11/55\n",
      "360/360 [==============================] - 17s 48ms/step - loss: 0.2926 - accuracy: 0.8914 - val_loss: 0.2259 - val_accuracy: 0.9157 - lr: 0.0010\n",
      "Epoch 12/55\n",
      "360/360 [==============================] - 18s 49ms/step - loss: 0.2878 - accuracy: 0.8921 - val_loss: 0.2286 - val_accuracy: 0.9163 - lr: 0.0010\n",
      "Epoch 13/55\n",
      "360/360 [==============================] - 18s 49ms/step - loss: 0.2852 - accuracy: 0.8942 - val_loss: 0.2273 - val_accuracy: 0.9168 - lr: 0.0010\n",
      "Epoch 14/55\n",
      "360/360 [==============================] - 19s 52ms/step - loss: 0.2818 - accuracy: 0.8961 - val_loss: 0.2257 - val_accuracy: 0.9153 - lr: 0.0010\n",
      "Epoch 15/55\n",
      "360/360 [==============================] - 18s 50ms/step - loss: 0.2750 - accuracy: 0.8976 - val_loss: 0.2219 - val_accuracy: 0.9182 - lr: 0.0010\n",
      "Epoch 16/55\n",
      "360/360 [==============================] - 18s 50ms/step - loss: 0.2703 - accuracy: 0.8994 - val_loss: 0.2197 - val_accuracy: 0.9187 - lr: 0.0010\n",
      "Epoch 17/55\n",
      "360/360 [==============================] - 22s 60ms/step - loss: 0.2681 - accuracy: 0.9001 - val_loss: 0.2332 - val_accuracy: 0.9125 - lr: 0.0010\n",
      "Epoch 18/55\n",
      "360/360 [==============================] - 20s 56ms/step - loss: 0.2600 - accuracy: 0.9027 - val_loss: 0.2377 - val_accuracy: 0.9155 - lr: 0.0010\n",
      "Epoch 19/55\n",
      "360/360 [==============================] - 19s 53ms/step - loss: 0.2574 - accuracy: 0.9044 - val_loss: 0.2220 - val_accuracy: 0.9180 - lr: 0.0010\n",
      "Epoch 20/55\n",
      "360/360 [==============================] - 19s 52ms/step - loss: 0.2414 - accuracy: 0.9099 - val_loss: 0.1968 - val_accuracy: 0.9285 - lr: 4.0000e-04\n",
      "Epoch 21/55\n",
      "360/360 [==============================] - 19s 53ms/step - loss: 0.2340 - accuracy: 0.9122 - val_loss: 0.1974 - val_accuracy: 0.9275 - lr: 4.0000e-04\n",
      "Epoch 22/55\n",
      "360/360 [==============================] - 19s 54ms/step - loss: 0.2271 - accuracy: 0.9141 - val_loss: 0.1968 - val_accuracy: 0.9283 - lr: 4.0000e-04\n",
      "Epoch 23/55\n",
      "360/360 [==============================] - 19s 52ms/step - loss: 0.2292 - accuracy: 0.9132 - val_loss: 0.1966 - val_accuracy: 0.9297 - lr: 4.0000e-04\n",
      "Epoch 24/55\n",
      "360/360 [==============================] - 20s 56ms/step - loss: 0.2242 - accuracy: 0.9162 - val_loss: 0.2032 - val_accuracy: 0.9270 - lr: 4.0000e-04\n",
      "Epoch 25/55\n",
      "360/360 [==============================] - 19s 52ms/step - loss: 0.2222 - accuracy: 0.9154 - val_loss: 0.2043 - val_accuracy: 0.9262 - lr: 4.0000e-04\n",
      "Epoch 26/55\n",
      "360/360 [==============================] - 24s 66ms/step - loss: 0.2214 - accuracy: 0.9167 - val_loss: 0.2004 - val_accuracy: 0.9252 - lr: 4.0000e-04\n",
      "Epoch 27/55\n",
      "360/360 [==============================] - 19s 54ms/step - loss: 0.2155 - accuracy: 0.9181 - val_loss: 0.1924 - val_accuracy: 0.9308 - lr: 1.6000e-04\n",
      "Epoch 28/55\n",
      "360/360 [==============================] - 19s 54ms/step - loss: 0.2109 - accuracy: 0.9196 - val_loss: 0.1902 - val_accuracy: 0.9317 - lr: 1.6000e-04\n",
      "Epoch 29/55\n",
      "360/360 [==============================] - 19s 52ms/step - loss: 0.2107 - accuracy: 0.9205 - val_loss: 0.1879 - val_accuracy: 0.9328 - lr: 1.6000e-04\n",
      "Epoch 30/55\n",
      "360/360 [==============================] - 19s 54ms/step - loss: 0.2100 - accuracy: 0.9207 - val_loss: 0.1937 - val_accuracy: 0.9292 - lr: 1.6000e-04\n",
      "Epoch 31/55\n",
      "360/360 [==============================] - 18s 51ms/step - loss: 0.2064 - accuracy: 0.9206 - val_loss: 0.1901 - val_accuracy: 0.9315 - lr: 1.6000e-04\n",
      "Epoch 32/55\n",
      "360/360 [==============================] - 20s 54ms/step - loss: 0.2061 - accuracy: 0.9218 - val_loss: 0.1885 - val_accuracy: 0.9332 - lr: 1.6000e-04\n",
      "Epoch 33/55\n",
      "360/360 [==============================] - 18s 51ms/step - loss: 0.2042 - accuracy: 0.9222 - val_loss: 0.1878 - val_accuracy: 0.9323 - lr: 6.4000e-05\n",
      "Epoch 34/55\n",
      "360/360 [==============================] - 18s 51ms/step - loss: 0.2012 - accuracy: 0.9230 - val_loss: 0.1888 - val_accuracy: 0.9317 - lr: 6.4000e-05\n",
      "Epoch 35/55\n",
      "360/360 [==============================] - 19s 53ms/step - loss: 0.2030 - accuracy: 0.9232 - val_loss: 0.1895 - val_accuracy: 0.9317 - lr: 6.4000e-05\n",
      "Epoch 36/55\n",
      "360/360 [==============================] - 19s 52ms/step - loss: 0.2024 - accuracy: 0.9225 - val_loss: 0.1892 - val_accuracy: 0.9322 - lr: 6.4000e-05\n",
      "Epoch 37/55\n",
      "360/360 [==============================] - 21s 58ms/step - loss: 0.1991 - accuracy: 0.9244 - val_loss: 0.1884 - val_accuracy: 0.9317 - lr: 2.5600e-05\n",
      "Epoch 38/55\n",
      "360/360 [==============================] - 20s 56ms/step - loss: 0.2017 - accuracy: 0.9233 - val_loss: 0.1887 - val_accuracy: 0.9318 - lr: 2.5600e-05\n",
      "Epoch 39/55\n",
      "360/360 [==============================] - 19s 54ms/step - loss: 0.1998 - accuracy: 0.9244 - val_loss: 0.1886 - val_accuracy: 0.9323 - lr: 2.5600e-05\n",
      "Epoch 40/55\n",
      "360/360 [==============================] - 19s 53ms/step - loss: 0.2004 - accuracy: 0.9239 - val_loss: 0.1881 - val_accuracy: 0.9325 - lr: 1.0240e-05\n",
      "Epoch 41/55\n",
      "360/360 [==============================] - 19s 52ms/step - loss: 0.2005 - accuracy: 0.9236 - val_loss: 0.1878 - val_accuracy: 0.9323 - lr: 1.0240e-05\n",
      "Epoch 42/55\n",
      "360/360 [==============================] - 21s 57ms/step - loss: 0.2002 - accuracy: 0.9241 - val_loss: 0.1874 - val_accuracy: 0.9323 - lr: 1.0240e-05\n",
      "Epoch 43/55\n",
      "360/360 [==============================] - 21s 59ms/step - loss: 0.1986 - accuracy: 0.9251 - val_loss: 0.1874 - val_accuracy: 0.9328 - lr: 1.0240e-05\n",
      "Epoch 44/55\n",
      "360/360 [==============================] - 19s 53ms/step - loss: 0.1994 - accuracy: 0.9236 - val_loss: 0.1876 - val_accuracy: 0.9322 - lr: 1.0240e-05\n",
      "Epoch 45/55\n",
      "360/360 [==============================] - 18s 51ms/step - loss: 0.1998 - accuracy: 0.9241 - val_loss: 0.1877 - val_accuracy: 0.9323 - lr: 1.0240e-05\n",
      "Epoch 46/55\n",
      "360/360 [==============================] - 20s 55ms/step - loss: 0.2001 - accuracy: 0.9232 - val_loss: 0.1876 - val_accuracy: 0.9322 - lr: 4.0960e-06\n",
      "Epoch 47/55\n",
      "360/360 [==============================] - 19s 53ms/step - loss: 0.1954 - accuracy: 0.9253 - val_loss: 0.1875 - val_accuracy: 0.9327 - lr: 4.0960e-06\n",
      "Epoch 48/55\n",
      "360/360 [==============================] - 20s 56ms/step - loss: 0.1992 - accuracy: 0.9240 - val_loss: 0.1875 - val_accuracy: 0.9325 - lr: 4.0960e-06\n",
      "Epoch 49/55\n",
      "360/360 [==============================] - 19s 53ms/step - loss: 0.1992 - accuracy: 0.9247 - val_loss: 0.1876 - val_accuracy: 0.9327 - lr: 1.6384e-06\n",
      "Epoch 50/55\n",
      "360/360 [==============================] - 20s 55ms/step - loss: 0.1999 - accuracy: 0.9255 - val_loss: 0.1875 - val_accuracy: 0.9327 - lr: 1.6384e-06\n",
      "Epoch 51/55\n",
      "360/360 [==============================] - 20s 54ms/step - loss: 0.1958 - accuracy: 0.9247 - val_loss: 0.1874 - val_accuracy: 0.9325 - lr: 1.6384e-06\n",
      "Epoch 52/55\n",
      "360/360 [==============================] - 18s 50ms/step - loss: 0.1996 - accuracy: 0.9237 - val_loss: 0.1876 - val_accuracy: 0.9325 - lr: 6.5536e-07\n",
      "Epoch 53/55\n",
      "360/360 [==============================] - 18s 51ms/step - loss: 0.1989 - accuracy: 0.9238 - val_loss: 0.1876 - val_accuracy: 0.9325 - lr: 6.5536e-07\n",
      "Epoch 54/55\n",
      "360/360 [==============================] - 18s 50ms/step - loss: 0.1970 - accuracy: 0.9253 - val_loss: 0.1875 - val_accuracy: 0.9322 - lr: 6.5536e-07\n",
      "Epoch 55/55\n",
      "360/360 [==============================] - 20s 54ms/step - loss: 0.1986 - accuracy: 0.9242 - val_loss: 0.1874 - val_accuracy: 0.9327 - lr: 2.6214e-07\n"
     ]
    }
   ],
   "source": [
    "train, test = tf.keras.datasets.fashion_mnist.load_data()\n",
    "\n",
    "images, labels = train\n",
    "\n",
    "images = images/255.0\n",
    "\n",
    "labels = labels.astype(np.int32)\n",
    "\n",
    "X_train, X_val, y_train, y_val = \\\n",
    "    train_test_split(images, labels, test_size=0.1, random_state=4321, stratify=labels)\n",
    "\n",
    "train_ds = tf.data.Dataset.from_tensor_slices((X_train, y_train))\n",
    "\n",
    "train_ds = train_ds.batch(150)\n",
    "\n",
    "f_mnist_model = tf.keras.Sequential([\n",
    "    Conv2D(16, 3, padding='same', activation='relu', input_shape=(28, 28 ,1)),\n",
    "    MaxPooling2D(),\n",
    "    Dropout(0.3),\n",
    "    BatchNormalization(), \n",
    "    Conv2D(32, 3, padding='same', activation='relu'),\n",
    "    MaxPooling2D(),\n",
    "    Conv2D(64, 3, padding='same', activation='relu'),\n",
    "    MaxPooling2D(),\n",
    "    Dropout(0.5),\n",
    "    layers.Flatten(),\n",
    "    BatchNormalization(),\n",
    "    layers.Dense(350,activation='relu'),\n",
    "    layers.Dense(150, activation='relu'),\n",
    "    Dropout(0.25),\n",
    "    layers.Dense(10, activation='softmax')\n",
    "])\n",
    "\n",
    "f_mnist_model.compile(\n",
    "    loss='sparse_categorical_crossentropy',\n",
    "    optimizer='adam',\n",
    "    metrics=['accuracy']\n",
    ")\n",
    "\n",
    "reduce_lr = ReduceLROnPlateau(monitor='val_loss', factor=0.4,\n",
    "                              patience=3, min_lr=0.00000001)\n",
    "\n",
    "train_stats = f_mnist_model.fit(train_ds, epochs=55, callbacks=[reduce_lr],validation_data=(X_val, y_val))\n"
   ]
  },
  {
   "cell_type": "code",
   "execution_count": 3,
   "id": "22454dd3",
   "metadata": {
    "colab": {
     "base_uri": "https://localhost:8080/",
     "height": 324
    },
    "executionInfo": {
     "elapsed": 642,
     "status": "ok",
     "timestamp": 1674425825399,
     "user": {
      "displayName": "Hanna Drwięga",
      "userId": "15275290414573247377"
     },
     "user_tz": -60
    },
    "id": "22454dd3",
    "outputId": "81fa3cb9-176d-4f62-d9fd-3636b8df3335"
   },
   "outputs": [
    {
     "data": {
      "image/png": "[encoded data removed]",
      "text/plain": [
       "<Figure size 800x500 with 1 Axes>"
      ]
     },
     "metadata": {},
     "output_type": "display_data"
    }
   ],
   "source": [
    "import pandas as pd\n",
    "import matplotlib.pyplot as plt\n",
    "\n",
    "pd.DataFrame(train_stats.history).plot(figsize=(8, 5))\n",
    "plt.grid(True)\n",
    "plt.gca().set_ylim(0, 1)\n",
    "plt.show()"
   ]
  },
  {
   "cell_type": "code",
   "execution_count": 4,
   "id": "246eac5c",
   "metadata": {
    "colab": {
     "base_uri": "https://localhost:8080/"
    },
    "executionInfo": {
     "elapsed": 1807,
     "status": "ok",
     "timestamp": 1674426161736,
     "user": {
      "displayName": "Hanna Drwięga",
      "userId": "15275290414573247377"
     },
     "user_tz": -60
    },
    "id": "246eac5c",
    "outputId": "cf58124c-c52a-4439-f4fe-06bb1063ae98"
   },
   "outputs": [
    {
     "name": "stdout",
     "output_type": "stream",
     "text": [
      "188/188 [==============================] - 1s 6ms/step\n",
      "probs :  [9.9988693e-01 1.3304594e-14 1.0729634e-06 1.3016379e-08 1.6534916e-11\n",
      " 9.7000763e-16 1.1190355e-04 4.5032665e-17 7.7039842e-12 9.7238185e-17]\n",
      "klasa : 0\n",
      "rzeczywista klasa:  0\n"
     ]
    }
   ],
   "source": [
    "y_pred = f_mnist_model.predict(X_val)\n",
    "print(\"probs : \", y_pred[2])\n",
    "print(\"klasa :\", np.argmax(y_pred[2]))\n",
    "print(\"rzeczywista klasa: \", y_val[2])"
   ]
  },
  {
   "cell_type": "code",
   "execution_count": 5,
   "id": "d23fc033",
   "metadata": {
    "colab": {
     "base_uri": "https://localhost:8080/"
    },
    "executionInfo": {
     "elapsed": 1034,
     "status": "ok",
     "timestamp": 1674426177877,
     "user": {
      "displayName": "Hanna Drwięga",
      "userId": "15275290414573247377"
     },
     "user_tz": -60
    },
    "id": "d23fc033",
    "outputId": "18786f79-c760-40e1-a693-bf51506bdd77"
   },
   "outputs": [
    {
     "name": "stdout",
     "output_type": "stream",
     "text": [
      "188/188 [==============================] - 1s 5ms/step - loss: 0.1874 - accuracy: 0.9327\n",
      "Test loss: 0.18740281462669373\n",
      "Test accuracy: 0.9326666593551636\n"
     ]
    }
   ],
   "source": [
    "score = f_mnist_model.evaluate(X_val, y_val)\n",
    "\n",
    "print('Test loss:', score[0])\n",
    "print('Test accuracy:', score[1])"
   ]
  },
  {
   "cell_type": "code",
   "execution_count": 7,
   "id": "3295a01e",
   "metadata": {
    "executionInfo": {
     "elapsed": 23,
     "status": "aborted",
     "timestamp": 1674425825415,
     "user": {
      "displayName": "Hanna Drwięga",
      "userId": "15275290414573247377"
     },
     "user_tz": -60
    },
    "id": "3295a01e"
   },
   "outputs": [],
   "source": [
    "f_mnist_model.save('model_18.3a.h5')"
   ]
  }
 ],
 "metadata": {
  "accelerator": "GPU",
  "colab": {
   "provenance": []
  },
  "gpuClass": "standard",
  "kernelspec": {
   "display_name": "Python 3 (ipykernel)",
   "language": "python",
   "name": "python3"
  },
  "language_info": {
   "codemirror_mode": {
    "name": "ipython",
    "version": 3
   },
   "file_extension": ".py",
   "mimetype": "text/x-python",
   "name": "python",
   "nbconvert_exporter": "python",
   "pygments_lexer": "ipython3",
   "version": "3.9.13"
  },
  "vscode": {
   "interpreter": {
    "hash": "b7a57a4211723189e59ed97bb1ea409ea2cac14a050c5f93135514b2300d7318"
   }
  }
 },
 "nbformat": 4,
 "nbformat_minor": 5
}
